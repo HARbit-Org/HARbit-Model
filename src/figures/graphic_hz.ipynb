{
 "cells": [
  {
   "cell_type": "code",
   "execution_count": 9,
   "id": "1b45e312",
   "metadata": {},
   "outputs": [],
   "source": [
    "from io import StringIO\n",
    "\n",
    "from tensorflow import keras\n",
    "import matplotlib.pyplot as plt\n",
    "from scipy.io import arff\n",
    "import seaborn as sns\n",
    "from loguru import logger\n",
    "import yaml\n",
    "\n",
    "from datetime import datetime\n",
    "import polars as pl\n",
    "import pandas as pd\n",
    "import numpy as np\n",
    "import os\n",
    "import joblib\n",
    "\n",
    "import sys\n",
    "from pathlib import Path\n",
    "sys.path.append(str(Path.cwd().parent))\n",
    "\n",
    "# Metrics\n",
    "from sklearn.metrics import (\n",
    "    classification_report, \n",
    "    confusion_matrix, \n",
    "    accuracy_score,\n",
    "    precision_recall_fscore_support,\n",
    "    balanced_accuracy_score,\n",
    "    roc_auc_score,\n",
    "    roc_curve\n",
    ")\n",
    "\n",
    "# PERSONAL FUNCTIONS\n",
    "from plots import *\n",
    "from utils import *\n",
    "from functions.windows import create_feature_windows # creación de ventanas e ingenieria de características"
   ]
  },
  {
   "cell_type": "code",
   "execution_count": 10,
   "id": "fbbedd32",
   "metadata": {},
   "outputs": [],
   "source": [
    "def compute_sampling_rate_stats(timestamps: pd.Series) -> dict:\n",
    "    \"\"\"\n",
    "    Calcula métricas de la frecuencia de muestreo a partir de timestamps.\n",
    "    \n",
    "    Parameters\n",
    "    ----------\n",
    "    timestamps : pd.Series\n",
    "        Serie de timestamps (dtype datetime64).\n",
    "    \n",
    "    Returns\n",
    "    -------\n",
    "    dict con:\n",
    "        - mean_hz: frecuencia promedio\n",
    "        - median_hz: frecuencia mediana (más robusta a outliers)\n",
    "        - std_hz: variación de la frecuencia\n",
    "        - min_hz, max_hz: valores extremos\n",
    "    \"\"\"\n",
    "    # diferencias entre timestamps en segundos\n",
    "    diffs = np.diff(timestamps.view(np.int64) / 1e9)\n",
    "    \n",
    "    # proteger en caso de valores repetidos\n",
    "    diffs = diffs[diffs > 0]\n",
    "    if len(diffs) == 0:\n",
    "        return {\"mean_hz\": 0, \"median_hz\": 0, \"std_hz\": 0, \"min_hz\": 0, \"max_hz\": 0}\n",
    "    \n",
    "    hz = 1.0 / diffs\n",
    "    return {\n",
    "        \"mean_hz\": float(np.mean(hz)),\n",
    "        \"median_hz\": float(np.median(hz)),\n",
    "        \"std_hz\": float(np.std(hz)),\n",
    "        \"min_hz\": float(np.min(hz)),\n",
    "        \"max_hz\": float(np.max(hz)),\n",
    "    }\n"
   ]
  },
  {
   "cell_type": "code",
   "execution_count": 11,
   "id": "1f4e2447",
   "metadata": {},
   "outputs": [],
   "source": [
    "import json\n",
    "with open(r'F:\\UPC\\Tesis\\HARbit-Model\\src\\data\\real-data\\sit-left-01.json', 'rb') as file:\n",
    "    data = json.load(file)\n",
    "\n",
    "gyro_df = data['gyro']\n",
    "accel_df = data['accel']"
   ]
  },
  {
   "cell_type": "code",
   "execution_count": 12,
   "id": "ff3c5411",
   "metadata": {},
   "outputs": [],
   "source": [
    "target = \"Sit\""
   ]
  },
  {
   "cell_type": "code",
   "execution_count": 13,
   "id": "dfaffcd2",
   "metadata": {},
   "outputs": [],
   "source": [
    "accel_temp = pl.DataFrame(accel_df)\n",
    "gyro_temp = pl.DataFrame(gyro_df)"
   ]
  },
  {
   "cell_type": "code",
   "execution_count": 14,
   "id": "991c4c21",
   "metadata": {},
   "outputs": [],
   "source": [
    "accel_temp = accel_temp.with_columns(pl.lit('A').alias('Usuario'))\n",
    "gyro_temp  = gyro_temp.with_columns(pl.lit('A').alias('Usuario'))"
   ]
  },
  {
   "cell_type": "code",
   "execution_count": 15,
   "id": "8c849b67",
   "metadata": {},
   "outputs": [],
   "source": [
    "accel_temp   = accel_temp.with_columns(pl.lit(target).alias('gt'))\n",
    "gyro_temp    = gyro_temp.with_columns(pl.lit(target).alias('gt'))"
   ]
  },
  {
   "cell_type": "code",
   "execution_count": 16,
   "id": "b27d698b",
   "metadata": {},
   "outputs": [],
   "source": [
    "df_accel = normalize_columns(accel_temp,\n",
    "                            user_col_name  = \"Usuario\", \n",
    "                            timestamp_col_name = \"timestamp\", \n",
    "                            label_col_name = \"gt\", \n",
    "                            x_col_name = \"x\", \n",
    "                            y_col_name = \"y\", \n",
    "                            z_col_name = \"z\")\n",
    "\n",
    "df_gyro = normalize_columns(gyro_temp, \n",
    "                            user_col_name  = \"Usuario\", \n",
    "                            timestamp_col_name = \"timestamp\", \n",
    "                            label_col_name = \"gt\", \n",
    "                            x_col_name = \"x\", \n",
    "                            y_col_name = \"y\", \n",
    "                            z_col_name = \"z\")"
   ]
  },
  {
   "cell_type": "code",
   "execution_count": 17,
   "id": "105950ae",
   "metadata": {},
   "outputs": [],
   "source": [
    "df_accel = convert_timestamp(df_accel)\n",
    "df_gyro = convert_timestamp(df_gyro)"
   ]
  },
  {
   "cell_type": "code",
   "execution_count": 19,
   "id": "8eb33100",
   "metadata": {},
   "outputs": [
    {
     "name": "stderr",
     "output_type": "stream",
     "text": [
      "C:\\Users\\HP\\AppData\\Local\\Temp\\ipykernel_18304\\947148691.py:19: FutureWarning: Series.view is deprecated and will be removed in a future version. Use ``astype`` as an alternative to change the dtype.\n",
      "  diffs = np.diff(timestamps.view(np.int64) / 1e9)\n"
     ]
    },
    {
     "data": {
      "text/plain": [
       "{'mean_hz': 26.901419406346573,\n",
       " 'median_hz': 25.12874966176535,\n",
       " 'std_hz': 6.446095185238278,\n",
       " 'min_hz': 11.149806390298968,\n",
       " 'max_hz': 50.45579748923072}"
      ]
     },
     "execution_count": 19,
     "metadata": {},
     "output_type": "execute_result"
    }
   ],
   "source": [
    "stats = compute_sampling_rate_stats(df_accel.to_pandas()[\"Timestamp\"])\n",
    "stats"
   ]
  },
  {
   "cell_type": "code",
   "execution_count": 20,
   "id": "40eacef2",
   "metadata": {},
   "outputs": [
    {
     "name": "stderr",
     "output_type": "stream",
     "text": [
      "C:\\Users\\HP\\AppData\\Local\\Temp\\ipykernel_18304\\3826423129.py:5: FutureWarning: DataFrame.interpolate with object dtype is deprecated and will raise in a future version. Call obj.infer_objects(copy=False) before interpolating instead.\n",
      "  .interpolate()\n"
     ]
    }
   ],
   "source": [
    "df_uniform = (\n",
    "    df_accel.to_pandas()\n",
    "    .set_index(\"Timestamp\")\n",
    "    .resample(\"50ms\")       # fuerza 20 Hz exactos\n",
    "    .interpolate()\n",
    "    .reset_index()\n",
    ")\n"
   ]
  },
  {
   "cell_type": "code",
   "execution_count": null,
   "id": "7008a59f",
   "metadata": {},
   "outputs": [],
   "source": []
  }
 ],
 "metadata": {
  "kernelspec": {
   "display_name": "forecasting",
   "language": "python",
   "name": "python3"
  },
  "language_info": {
   "codemirror_mode": {
    "name": "ipython",
    "version": 3
   },
   "file_extension": ".py",
   "mimetype": "text/x-python",
   "name": "python",
   "nbconvert_exporter": "python",
   "pygments_lexer": "ipython3",
   "version": "3.10.15"
  }
 },
 "nbformat": 4,
 "nbformat_minor": 5
}
