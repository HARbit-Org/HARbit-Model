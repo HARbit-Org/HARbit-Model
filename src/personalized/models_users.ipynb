{
 "cells": [
  {
   "cell_type": "code",
   "execution_count": 33,
   "id": "cfb87ef4",
   "metadata": {},
   "outputs": [],
   "source": [
    "from io import StringIO\n",
    "\n",
    "import matplotlib.pyplot as plt\n",
    "from scipy.io import arff\n",
    "import seaborn as sns\n",
    "from loguru import logger\n",
    "import yaml\n",
    "\n",
    "from datetime import datetime\n",
    "import polars as pl\n",
    "import pandas as pd\n",
    "import numpy as np\n",
    "import sys\n",
    "import os\n",
    "from pathlib import Path\n",
    "sys.path.append(str(Path.cwd().parent))\n",
    "\n",
    "# MODEL\n",
    "import tensorflow as tf\n",
    "from tensorflow.keras.models import Sequential\n",
    "from tensorflow.keras.layers import Conv1D, MaxPooling1D, LSTM, Dense, Dropout, BatchNormalization\n",
    "from tensorflow.keras.optimizers import Adam\n",
    "from tensorflow.keras.callbacks import EarlyStopping, ReduceLROnPlateau\n",
    "from sklearn.model_selection import train_test_split\n",
    "from tensorflow.keras.utils import plot_model\n",
    "from sklearn.preprocessing import (\n",
    "    LabelEncoder, \n",
    "    StandardScaler,\n",
    "    label_binarize\n",
    ")\n",
    "from sklearn.metrics import (\n",
    "    classification_report, \n",
    "    confusion_matrix, \n",
    "    accuracy_score,\n",
    "    precision_recall_fscore_support,\n",
    "    balanced_accuracy_score,\n",
    "    roc_auc_score,\n",
    "    roc_curve\n",
    ")\n",
    "\n",
    "# Save variables for model\n",
    "import joblib\n",
    "\n",
    "# PERSONAL FUNCTIONS\n",
    "from utils import *\n",
    "from models.main import *\n",
    "from functions.windows import create_feature_windows # creación de ventanas e ingenieria de características"
   ]
  },
  {
   "cell_type": "code",
   "execution_count": 34,
   "id": "789f0e0b",
   "metadata": {},
   "outputs": [],
   "source": [
    "df_accel = pl.read_csv(r\"F:\\UPC\\Tesis\\HARbit-Model\\src\\test\\data\\Watch_accelerometer.csv\")\n",
    "df_gyro = pl.read_csv(r\"F:\\UPC\\Tesis\\HARbit-Model\\src\\test\\data\\Watch_gyroscope.csv\")"
   ]
  },
  {
   "cell_type": "code",
   "execution_count": 35,
   "id": "502dc19a",
   "metadata": {},
   "outputs": [],
   "source": [
    "df_accel = normalize_columns(df_accel, \n",
    "                            user_col_name  = \"User\", \n",
    "                            timestamp_col_name = \"Creation_Time\", \n",
    "                            label_col_name = \"gt\", \n",
    "                            x_col_name = \"x\", \n",
    "                            y_col_name = \"y\", \n",
    "                            z_col_name = \"z\")\n",
    "\n",
    "df_gyro = normalize_columns(df_gyro, \n",
    "                            user_col_name  = \"User\", \n",
    "                            timestamp_col_name = \"Creation_Time\", \n",
    "                            label_col_name = \"gt\", \n",
    "                            x_col_name = \"x\", \n",
    "                            y_col_name = \"y\", \n",
    "                            z_col_name = \"z\")"
   ]
  },
  {
   "cell_type": "code",
   "execution_count": 36,
   "id": "c429df37",
   "metadata": {},
   "outputs": [],
   "source": [
    "df_accel = convert_timestamp(df_accel)\n",
    "df_gyro = convert_timestamp(df_gyro)"
   ]
  },
  {
   "cell_type": "code",
   "execution_count": 37,
   "id": "f01c9cd0",
   "metadata": {},
   "outputs": [],
   "source": [
    "df_all_sensors = df_gyro.join(df_accel, on = ['Subject-id', 'Timestamp', 'Activity Label'], how = \"inner\")"
   ]
  },
  {
   "cell_type": "code",
   "execution_count": 38,
   "id": "a5df8bfb",
   "metadata": {},
   "outputs": [],
   "source": [
    "df_gyro = df_all_sensors.select(\n",
    "            pl.col('Subject-id'), \n",
    "            pl.col('Timestamp'), \n",
    "            pl.col('Activity Label'),\n",
    "            pl.col('X'), \n",
    "            pl.col('Y'), \n",
    "            pl.col('Z')\n",
    "        )\n",
    "df_accel = df_all_sensors.select(\n",
    "            pl.col('Subject-id'), \n",
    "            pl.col('Timestamp'), \n",
    "            pl.col('Activity Label'),\n",
    "            pl.col('X_right').alias('X'), \n",
    "            pl.col('Y_right').alias('Y'), \n",
    "            pl.col('Z_right').alias('Z')\n",
    "        )\n"
   ]
  },
  {
   "cell_type": "code",
   "execution_count": 39,
   "id": "950b8f44",
   "metadata": {},
   "outputs": [
    {
     "name": "stdout",
     "output_type": "stream",
     "text": [
      "🔄 Convirtiendo a 20Hz (ventanas de 50ms)\n",
      "📊 Procesando usuario 1/9: h\n",
      "  🎯 Actividad: bike (2726 muestras)\n",
      "    ✅ 2726 → 273 muestras\n",
      "📊 Procesando usuario 2/9: i\n",
      "  🎯 Actividad: sit (189 muestras)\n",
      "    ✅ 189 → 21 muestras\n",
      "  🎯 Actividad: stand (261 muestras)\n",
      "    ✅ 261 → 42 muestras\n",
      "  🎯 Actividad: stairsdown (2478 muestras)\n",
      "    ✅ 2478 → 277 muestras\n",
      "  🎯 Actividad: stairsup (4416 muestras)\n",
      "    ✅ 4416 → 441 muestras\n",
      "  🎯 Actividad: null (2632 muestras)\n",
      "    ✅ 2632 → 300 muestras\n",
      "📊 Procesando usuario 3/9: f\n",
      "  🎯 Actividad: stairsup (59580 muestras)\n",
      "    ✅ 59580 → 5906 muestras\n",
      "  🎯 Actividad: stand (63644 muestras)\n",
      "    ✅ 63644 → 6286 muestras\n",
      "  🎯 Actividad: bike (76806 muestras)\n",
      "    ✅ 76806 → 7619 muestras\n",
      "  🎯 Actividad: null (70154 muestras)\n",
      "    ✅ 70154 → 6980 muestras\n",
      "  🎯 Actividad: walk (65023 muestras)\n",
      "    ✅ 65023 → 6462 muestras\n",
      "  🎯 Actividad: stairsdown (55875 muestras)\n",
      "    ✅ 55875 → 5540 muestras\n",
      "  🎯 Actividad: sit (61307 muestras)\n",
      "    ✅ 61307 → 6051 muestras\n",
      "📊 Procesando usuario 4/9: c\n",
      "  🎯 Actividad: stairsup (55954 muestras)\n",
      "    ✅ 55954 → 5526 muestras\n",
      "  🎯 Actividad: stand (62794 muestras)\n",
      "    ✅ 62794 → 6196 muestras\n",
      "  🎯 Actividad: null (44500 muestras)\n",
      "    ✅ 44500 → 4394 muestras\n",
      "  🎯 Actividad: stairsdown (53385 muestras)\n",
      "    ✅ 53385 → 5270 muestras\n",
      "  🎯 Actividad: bike (66864 muestras)\n",
      "    ✅ 66864 → 6628 muestras\n",
      "  🎯 Actividad: walk (60934 muestras)\n",
      "    ✅ 60934 → 6012 muestras\n",
      "  🎯 Actividad: sit (59678 muestras)\n",
      "    ✅ 59678 → 5885 muestras\n",
      "📊 Procesando usuario 5/9: e\n",
      "  🎯 Actividad: walk (68888 muestras)\n",
      "    ✅ 68888 → 6802 muestras\n",
      "  🎯 Actividad: stairsdown (59115 muestras)\n",
      "    ✅ 59115 → 5859 muestras\n",
      "  🎯 Actividad: null (95723 muestras)\n",
      "    ✅ 95723 → 9474 muestras\n",
      "  🎯 Actividad: stairsup (54511 muestras)\n",
      "    ✅ 54511 → 5399 muestras\n",
      "  🎯 Actividad: stand (62959 muestras)\n",
      "    ✅ 62959 → 6217 muestras\n",
      "  🎯 Actividad: bike (87205 muestras)\n",
      "    ✅ 87205 → 8673 muestras\n",
      "  🎯 Actividad: sit (60098 muestras)\n",
      "    ✅ 60098 → 5930 muestras\n",
      "📊 Procesando usuario 6/9: d\n",
      "  🎯 Actividad: sit (60543 muestras)\n",
      "    ✅ 60543 → 5975 muestras\n",
      "  🎯 Actividad: null (34583 muestras)\n",
      "    ✅ 34583 → 3418 muestras\n",
      "  🎯 Actividad: stairsdown (47099 muestras)\n",
      "    ✅ 47099 → 4652 muestras\n",
      "  🎯 Actividad: walk (72278 muestras)\n",
      "    ✅ 72278 → 7151 muestras\n",
      "  🎯 Actividad: bike (52588 muestras)\n",
      "    ✅ 52588 → 5223 muestras\n",
      "  🎯 Actividad: stand (58066 muestras)\n",
      "    ✅ 58066 → 5741 muestras\n",
      "  🎯 Actividad: stairsup (54521 muestras)\n",
      "    ✅ 54521 → 5387 muestras\n",
      "📊 Procesando usuario 7/9: g\n",
      "  🎯 Actividad: null (4783 muestras)\n",
      "    ✅ 4783 → 504 muestras\n",
      "  🎯 Actividad: stairsdown (2251 muestras)\n",
      "    ✅ 2251 → 226 muestras\n",
      "  🎯 Actividad: walk (709 muestras)\n",
      "    ✅ 709 → 72 muestras\n",
      "  🎯 Actividad: bike (13969 muestras)\n",
      "    ✅ 13969 → 1475 muestras\n",
      "📊 Procesando usuario 8/9: a\n",
      "  🎯 Actividad: sit (62660 muestras)\n",
      "    ✅ 62660 → 6184 muestras\n",
      "  🎯 Actividad: bike (65098 muestras)\n",
      "    ✅ 65098 → 6457 muestras\n",
      "  🎯 Actividad: stand (64039 muestras)\n",
      "    ✅ 64039 → 6381 muestras\n",
      "  🎯 Actividad: stairsup (45539 muestras)\n",
      "    ✅ 45539 → 4504 muestras\n",
      "  🎯 Actividad: stairsdown (53212 muestras)\n",
      "    ✅ 53212 → 5264 muestras\n",
      "  🎯 Actividad: walk (59919 muestras)\n",
      "    ✅ 59919 → 5922 muestras\n",
      "  🎯 Actividad: null (43077 muestras)\n",
      "    ✅ 43077 → 4258 muestras\n",
      "📊 Procesando usuario 9/9: b\n",
      "  🎯 Actividad: walk (66751 muestras)\n",
      "    ✅ 66751 → 6585 muestras\n",
      "  🎯 Actividad: stairsdown (53876 muestras)\n",
      "    ✅ 53876 → 5323 muestras\n",
      "  🎯 Actividad: stairsup (60297 muestras)\n",
      "    ✅ 60297 → 5960 muestras\n",
      "  🎯 Actividad: bike (78049 muestras)\n",
      "    ✅ 78049 → 7716 muestras\n",
      "  🎯 Actividad: sit (62567 muestras)\n",
      "    ✅ 62567 → 6176 muestras\n",
      "  🎯 Actividad: stand (63978 muestras)\n",
      "    ✅ 63978 → 6319 muestras\n",
      "  🎯 Actividad: null (67689 muestras)\n",
      "    ✅ 67689 → 6688 muestras\n",
      "✅ Conversión completada: 2605840 → 258024 muestras\n",
      "🔄 Convirtiendo a 20Hz (ventanas de 50ms)\n",
      "📊 Procesando usuario 1/9: b\n",
      "  🎯 Actividad: bike (78049 muestras)\n",
      "    ✅ 78049 → 7716 muestras\n",
      "  🎯 Actividad: walk (66751 muestras)\n",
      "    ✅ 66751 → 6585 muestras\n",
      "  🎯 Actividad: sit (62567 muestras)\n",
      "    ✅ 62567 → 6176 muestras\n",
      "  🎯 Actividad: null (67689 muestras)\n",
      "    ✅ 67689 → 6688 muestras\n",
      "  🎯 Actividad: stairsup (60297 muestras)\n",
      "    ✅ 60297 → 5960 muestras\n",
      "  🎯 Actividad: stand (63978 muestras)\n",
      "    ✅ 63978 → 6319 muestras\n",
      "  🎯 Actividad: stairsdown (53876 muestras)\n",
      "    ✅ 53876 → 5323 muestras\n",
      "📊 Procesando usuario 2/9: d\n",
      "  🎯 Actividad: stand (58066 muestras)\n",
      "    ✅ 58066 → 5741 muestras\n",
      "  🎯 Actividad: null (34583 muestras)\n",
      "    ✅ 34583 → 3418 muestras\n",
      "  🎯 Actividad: stairsdown (47099 muestras)\n",
      "    ✅ 47099 → 4652 muestras\n",
      "  🎯 Actividad: sit (60543 muestras)\n",
      "    ✅ 60543 → 5975 muestras\n",
      "  🎯 Actividad: walk (72278 muestras)\n",
      "    ✅ 72278 → 7151 muestras\n",
      "  🎯 Actividad: stairsup (54521 muestras)\n",
      "    ✅ 54521 → 5387 muestras\n",
      "  🎯 Actividad: bike (52588 muestras)\n",
      "    ✅ 52588 → 5223 muestras\n",
      "📊 Procesando usuario 3/9: a\n",
      "  🎯 Actividad: stairsup (45539 muestras)\n",
      "    ✅ 45539 → 4504 muestras\n",
      "  🎯 Actividad: stand (64039 muestras)\n",
      "    ✅ 64039 → 6381 muestras\n",
      "  🎯 Actividad: null (43077 muestras)\n",
      "    ✅ 43077 → 4258 muestras\n",
      "  🎯 Actividad: bike (65098 muestras)\n",
      "    ✅ 65098 → 6457 muestras\n",
      "  🎯 Actividad: walk (59919 muestras)\n",
      "    ✅ 59919 → 5922 muestras\n",
      "  🎯 Actividad: sit (62660 muestras)\n",
      "    ✅ 62660 → 6184 muestras\n",
      "  🎯 Actividad: stairsdown (53212 muestras)\n",
      "    ✅ 53212 → 5264 muestras\n",
      "📊 Procesando usuario 4/9: c\n",
      "  🎯 Actividad: bike (66864 muestras)\n",
      "    ✅ 66864 → 6628 muestras\n",
      "  🎯 Actividad: sit (59678 muestras)\n",
      "    ✅ 59678 → 5885 muestras\n",
      "  🎯 Actividad: stand (62794 muestras)\n",
      "    ✅ 62794 → 6196 muestras\n",
      "  🎯 Actividad: null (44500 muestras)\n",
      "    ✅ 44500 → 4394 muestras\n",
      "  🎯 Actividad: walk (60934 muestras)\n",
      "    ✅ 60934 → 6012 muestras\n",
      "  🎯 Actividad: stairsdown (53385 muestras)\n",
      "    ✅ 53385 → 5270 muestras\n",
      "  🎯 Actividad: stairsup (55954 muestras)\n",
      "    ✅ 55954 → 5526 muestras\n",
      "📊 Procesando usuario 5/9: h\n",
      "  🎯 Actividad: bike (2726 muestras)\n",
      "    ✅ 2726 → 273 muestras\n",
      "📊 Procesando usuario 6/9: g\n",
      "  🎯 Actividad: bike (13969 muestras)\n",
      "    ✅ 13969 → 1475 muestras\n",
      "  🎯 Actividad: null (4783 muestras)\n",
      "    ✅ 4783 → 504 muestras\n",
      "  🎯 Actividad: stairsdown (2251 muestras)\n",
      "    ✅ 2251 → 226 muestras\n",
      "  🎯 Actividad: walk (709 muestras)\n",
      "    ✅ 709 → 72 muestras\n",
      "📊 Procesando usuario 7/9: e\n",
      "  🎯 Actividad: stairsup (54511 muestras)\n",
      "    ✅ 54511 → 5399 muestras\n",
      "  🎯 Actividad: null (95723 muestras)\n",
      "    ✅ 95723 → 9474 muestras\n",
      "  🎯 Actividad: stairsdown (59115 muestras)\n",
      "    ✅ 59115 → 5859 muestras\n",
      "  🎯 Actividad: sit (60098 muestras)\n",
      "    ✅ 60098 → 5930 muestras\n",
      "  🎯 Actividad: walk (68888 muestras)\n",
      "    ✅ 68888 → 6802 muestras\n",
      "  🎯 Actividad: bike (87205 muestras)\n",
      "    ✅ 87205 → 8673 muestras\n",
      "  🎯 Actividad: stand (62959 muestras)\n",
      "    ✅ 62959 → 6217 muestras\n",
      "📊 Procesando usuario 8/9: f\n",
      "  🎯 Actividad: stairsdown (55875 muestras)\n",
      "    ✅ 55875 → 5540 muestras\n",
      "  🎯 Actividad: stand (63644 muestras)\n",
      "    ✅ 63644 → 6286 muestras\n",
      "  🎯 Actividad: null (70154 muestras)\n",
      "    ✅ 70154 → 6980 muestras\n",
      "  🎯 Actividad: walk (65023 muestras)\n",
      "    ✅ 65023 → 6462 muestras\n",
      "  🎯 Actividad: sit (61307 muestras)\n",
      "    ✅ 61307 → 6051 muestras\n",
      "  🎯 Actividad: bike (76806 muestras)\n",
      "    ✅ 76806 → 7619 muestras\n",
      "  🎯 Actividad: stairsup (59580 muestras)\n",
      "    ✅ 59580 → 5906 muestras\n",
      "📊 Procesando usuario 9/9: i\n",
      "  🎯 Actividad: stairsup (4416 muestras)\n",
      "    ✅ 4416 → 441 muestras\n",
      "  🎯 Actividad: sit (189 muestras)\n",
      "    ✅ 189 → 21 muestras\n",
      "  🎯 Actividad: stand (261 muestras)\n",
      "    ✅ 261 → 42 muestras\n",
      "  🎯 Actividad: stairsdown (2478 muestras)\n",
      "    ✅ 2478 → 277 muestras\n",
      "  🎯 Actividad: null (2632 muestras)\n",
      "    ✅ 2632 → 300 muestras\n",
      "✅ Conversión completada: 2605840 → 258024 muestras\n"
     ]
    }
   ],
   "source": [
    "df_gyro_group   = convert_frequences(df_gyro,   hz = 20)\n",
    "df_accel_group  = convert_frequences(df_accel,  hz = 20)"
   ]
  },
  {
   "cell_type": "code",
   "execution_count": 40,
   "id": "7cd507fa",
   "metadata": {},
   "outputs": [],
   "source": [
    "features_gyro   = create_feature_windows(df_gyro_group, window_seconds = 5, overlap_percent=50, sampling_rate = 20)\n",
    "features_accel  = create_feature_windows(df_accel_group, window_seconds = 5, overlap_percent=50, sampling_rate = 20)"
   ]
  },
  {
   "cell_type": "code",
   "execution_count": null,
   "id": "7defb7fd",
   "metadata": {},
   "outputs": [],
   "source": [
    "# features_gyro.to_csv(r\"..\\data\\preprocess\\UCI_gyro_50%-overlaping_5s-windows.csv\", index = False)\n",
    "# features_accel.to_csv(r\"..\\data\\preprocess\\UCI_accel_50%-overlaping_5s-windows.csv\", index = False)"
   ]
  },
  {
   "cell_type": "code",
   "execution_count": 42,
   "id": "947f6fc7",
   "metadata": {},
   "outputs": [],
   "source": [
    "features_gyro = pd.read_csv(r\"..\\data\\preprocess\\UCI_gyro_50%-overlaping_5s-windows.csv\")\n",
    "features_accel = pd.read_csv(r\"..\\data\\preprocess\\UCI_accel_50%-overlaping_5s-windows.csv\")"
   ]
  },
  {
   "cell_type": "code",
   "execution_count": 43,
   "id": "215b0fd2",
   "metadata": {},
   "outputs": [],
   "source": [
    "features_combined = pd.merge(\n",
    "    features_gyro,\n",
    "    features_accel,\n",
    "    on=['Subject-id', 'Activity Label', 'window_start', 'window_end', 'sample_count'], \n",
    "    how=\"inner\"\n",
    ")"
   ]
  },
  {
   "cell_type": "code",
   "execution_count": 45,
   "id": "f8d155f2",
   "metadata": {},
   "outputs": [],
   "source": [
    "ls_columns_gyro = [col for col in features_combined.columns if col.endswith('_x')]\n",
    "ls_columns_accel = [col for col in features_combined.columns if col.endswith('_y')]"
   ]
  },
  {
   "cell_type": "code",
   "execution_count": 46,
   "id": "8015748b",
   "metadata": {},
   "outputs": [],
   "source": [
    "features_combined = features_combined.drop(columns = ls_columns_gyro)"
   ]
  },
  {
   "cell_type": "code",
   "execution_count": 160,
   "id": "966bbd25",
   "metadata": {},
   "outputs": [],
   "source": [
    "from tensorflow import keras\n",
    "# model = keras.models.load_model(r'F:\\UPC\\Tesis\\HARbit-Model\\src\\models\\cnn_lstm_har_model_92.h5')"
   ]
  },
  {
   "cell_type": "code",
   "execution_count": 161,
   "id": "96eaa5c3",
   "metadata": {},
   "outputs": [],
   "source": [
    "# label_encoder = joblib.load(r'F:\\UPC\\Tesis\\HARbit-Model\\src\\models\\meta\\label_encoder_92%.joblib')"
   ]
  },
  {
   "cell_type": "code",
   "execution_count": 47,
   "id": "47a313ac",
   "metadata": {},
   "outputs": [],
   "source": [
    "activities_dict = {\n",
    "    'Walk': ['walk'],\n",
    "    'Stairs': ['stairsup', 'stairsdown'],\n",
    "    'Stand': ['stand'],\n",
    "    'Sit': ['sit'],\n",
    "    'Others': ['null', 'bike']\n",
    "}\n",
    "\n",
    "for activity in activities_dict.keys():\n",
    "    for old_activity in activities_dict[activity]:\n",
    "        features_combined.loc[features_combined['Activity Label'] == old_activity, 'Activity Label'] = activity"
   ]
  },
  {
   "cell_type": "code",
   "execution_count": 48,
   "id": "ee9f767c",
   "metadata": {},
   "outputs": [],
   "source": [
    "features_combined = features_combined[features_combined['Activity Label'] != 'Others']"
   ]
  },
  {
   "cell_type": "code",
   "execution_count": 49,
   "id": "18c874cd",
   "metadata": {},
   "outputs": [],
   "source": [
    "data_train, data_test, data_val = split_by_user(features_combined, num_user_test = 2, num_user_val = 2)"
   ]
  },
  {
   "cell_type": "code",
   "execution_count": 51,
   "id": "bb4f5a34",
   "metadata": {},
   "outputs": [
    {
     "name": "stdout",
     "output_type": "stream",
     "text": [
      "✅ Secuencias creadas: (1648, 8, 68)\n",
      "  Num features: 68\n",
      "  Clases: ['Sit' 'Stairs' 'Stand' 'Walk']\n",
      "Forma de X (secuencias): (1648, 8, 68)\n",
      "Forma de y: (1648,)\n",
      "Actividades únicas: [0 1 2 3]\n"
     ]
    }
   ],
   "source": [
    "X_train, y_train, subjects_train, label_encoder = prepare_features_for_cnn_lstm_sequences(\n",
    "    data_train, \n",
    "    group_size=8, \n",
    "    step_size=1\n",
    ")\n",
    "\n",
    "print(f\"Forma de X (secuencias): {X_train.shape}\")   # (N, group_size, features)\n",
    "print(f\"Forma de y: {y_train.shape}\")\n",
    "print(f\"Actividades únicas: {np.unique(y_train)}\")"
   ]
  },
  {
   "cell_type": "code",
   "execution_count": 52,
   "id": "1bc5ebe5",
   "metadata": {},
   "outputs": [
    {
     "name": "stdout",
     "output_type": "stream",
     "text": [
      "✅ Secuencias creadas: (567, 8, 68)\n",
      "  Num features: 68\n",
      "  Clases: ['Sit' 'Stairs' 'Stand' 'Walk']\n",
      "Forma de X (secuencias): (567, 8, 68)\n",
      "Forma de y: (567,)\n",
      "Actividades únicas: [0 1 2 3]\n"
     ]
    }
   ],
   "source": [
    "X_test, y_test, subjects_test, le1 = prepare_features_for_cnn_lstm_sequences(\n",
    "    data_test,\n",
    "    group_size=8,\n",
    "    step_size=1\n",
    ")\n",
    "\n",
    "print(f\"Forma de X (secuencias): {X_test.shape}\")   # (N, group_size, features)\n",
    "print(f\"Forma de y: {y_test.shape}\")\n",
    "print(f\"Actividades únicas: {np.unique(y_test)}\")"
   ]
  },
  {
   "cell_type": "code",
   "execution_count": 53,
   "id": "45c504ef",
   "metadata": {},
   "outputs": [],
   "source": [
    "y_test = le1.inverse_transform(y_test)"
   ]
  },
  {
   "cell_type": "code",
   "execution_count": 54,
   "id": "aae18aec",
   "metadata": {},
   "outputs": [
    {
     "name": "stdout",
     "output_type": "stream",
     "text": [
      "✅ Secuencias creadas: (1044, 8, 68)\n",
      "  Num features: 68\n",
      "  Clases: ['Sit' 'Stairs' 'Stand' 'Walk']\n",
      "Forma de X (secuencias): (1044, 8, 68)\n",
      "Forma de y: (1044,)\n",
      "Actividades únicas: [0 1 2 3]\n"
     ]
    }
   ],
   "source": [
    "X_val, y_val, subjects_test, le2 = prepare_features_for_cnn_lstm_sequences(\n",
    "    data_val,\n",
    "    group_size=8,\n",
    "    step_size=1\n",
    ")\n",
    "\n",
    "print(f\"Forma de X (secuencias): {X_val.shape}\")   # (N, group_size, features)\n",
    "print(f\"Forma de y: {y_val.shape}\")\n",
    "print(f\"Actividades únicas: {np.unique(y_val)}\")"
   ]
  },
  {
   "cell_type": "code",
   "execution_count": 56,
   "id": "501f59fb",
   "metadata": {},
   "outputs": [],
   "source": [
    "y_val = le2.inverse_transform(y_val)"
   ]
  },
  {
   "cell_type": "code",
   "execution_count": 57,
   "id": "e08efb61",
   "metadata": {},
   "outputs": [],
   "source": [
    "y_test  = label_encoder.transform(y_test)\n",
    "y_val   = label_encoder.transform(y_val)"
   ]
  },
  {
   "cell_type": "code",
   "execution_count": null,
   "id": "dce6ed0b",
   "metadata": {},
   "outputs": [],
   "source": [
    "# X, y, subjects, label_encoder = prepare_features_for_cnn_lstm_sequences(\n",
    "#     features_combined, \n",
    "#     group_size=8, \n",
    "#     step_size=1\n",
    "# )\n",
    "\n",
    "# print(f\"Forma de X (secuencias): {X.shape}\")   # (N, group_size, features)\n",
    "# print(f\"Forma de y: {y.shape}\")\n",
    "# print(f\"Actividades únicas: {np.unique(y)}\")"
   ]
  },
  {
   "cell_type": "code",
   "execution_count": 58,
   "id": "59b0b8cf",
   "metadata": {},
   "outputs": [
    {
     "name": "stderr",
     "output_type": "stream",
     "text": [
      "c:\\Users\\HP\\miniconda3\\envs\\forecasting\\lib\\site-packages\\keras\\src\\layers\\convolutional\\base_conv.py:113: UserWarning: Do not pass an `input_shape`/`input_dim` argument to a layer. When using Sequential models, prefer using an `Input(shape)` object as the first layer in the model instead.\n",
      "  super().__init__(activity_regularizer=activity_regularizer, **kwargs)\n"
     ]
    }
   ],
   "source": [
    "from models.main import *\n",
    "input_shape = (X_train.shape[1], X_train.shape[2])\n",
    "num_classes = len(label_encoder.classes_)\n",
    "\n",
    "model = create_cnn_lstm_model(input_shape = input_shape, num_classes = num_classes)"
   ]
  },
  {
   "cell_type": "code",
   "execution_count": 59,
   "id": "2a6b60d2",
   "metadata": {},
   "outputs": [
    {
     "name": "stdout",
     "output_type": "stream",
     "text": [
      "Entrenando modelo CNN-LSTM...\n",
      "Epoch 1/100\n",
      "\u001b[1m52/52\u001b[0m \u001b[32m━━━━━━━━━━━━━━━━━━━━\u001b[0m\u001b[37m\u001b[0m \u001b[1m8s\u001b[0m 31ms/step - accuracy: 0.8610 - loss: 0.4114 - val_accuracy: 0.8056 - val_loss: 0.7137 - learning_rate: 0.0010\n",
      "Epoch 2/100\n",
      "\u001b[1m52/52\u001b[0m \u001b[32m━━━━━━━━━━━━━━━━━━━━\u001b[0m\u001b[37m\u001b[0m \u001b[1m1s\u001b[0m 16ms/step - accuracy: 0.9757 - loss: 0.0777 - val_accuracy: 0.8362 - val_loss: 0.4845 - learning_rate: 0.0010\n",
      "Epoch 3/100\n",
      "\u001b[1m52/52\u001b[0m \u001b[32m━━━━━━━━━━━━━━━━━━━━\u001b[0m\u001b[37m\u001b[0m \u001b[1m1s\u001b[0m 16ms/step - accuracy: 0.9891 - loss: 0.0346 - val_accuracy: 0.8161 - val_loss: 0.3974 - learning_rate: 0.0010\n",
      "Epoch 4/100\n",
      "\u001b[1m52/52\u001b[0m \u001b[32m━━━━━━━━━━━━━━━━━━━━\u001b[0m\u001b[37m\u001b[0m \u001b[1m1s\u001b[0m 16ms/step - accuracy: 0.9891 - loss: 0.0290 - val_accuracy: 0.9071 - val_loss: 0.2926 - learning_rate: 0.0010\n",
      "Epoch 5/100\n",
      "\u001b[1m52/52\u001b[0m \u001b[32m━━━━━━━━━━━━━━━━━━━━\u001b[0m\u001b[37m\u001b[0m \u001b[1m1s\u001b[0m 16ms/step - accuracy: 0.9915 - loss: 0.0281 - val_accuracy: 0.7969 - val_loss: 0.8689 - learning_rate: 0.0010\n",
      "Epoch 6/100\n",
      "\u001b[1m52/52\u001b[0m \u001b[32m━━━━━━━━━━━━━━━━━━━━\u001b[0m\u001b[37m\u001b[0m \u001b[1m1s\u001b[0m 20ms/step - accuracy: 0.9897 - loss: 0.0299 - val_accuracy: 0.7893 - val_loss: 0.7836 - learning_rate: 0.0010\n",
      "Epoch 7/100\n",
      "\u001b[1m52/52\u001b[0m \u001b[32m━━━━━━━━━━━━━━━━━━━━\u001b[0m\u001b[37m\u001b[0m \u001b[1m1s\u001b[0m 18ms/step - accuracy: 0.9958 - loss: 0.0201 - val_accuracy: 0.9119 - val_loss: 0.4044 - learning_rate: 0.0010\n",
      "Epoch 8/100\n",
      "\u001b[1m52/52\u001b[0m \u001b[32m━━━━━━━━━━━━━━━━━━━━\u001b[0m\u001b[37m\u001b[0m \u001b[1m1s\u001b[0m 17ms/step - accuracy: 0.9909 - loss: 0.0352 - val_accuracy: 0.8132 - val_loss: 1.3971 - learning_rate: 0.0010\n",
      "Epoch 9/100\n",
      "\u001b[1m52/52\u001b[0m \u001b[32m━━━━━━━━━━━━━━━━━━━━\u001b[0m\u001b[37m\u001b[0m \u001b[1m1s\u001b[0m 22ms/step - accuracy: 0.9782 - loss: 0.0688 - val_accuracy: 0.7797 - val_loss: 1.6083 - learning_rate: 0.0010\n",
      "Epoch 10/100\n",
      "\u001b[1m52/52\u001b[0m \u001b[32m━━━━━━━━━━━━━━━━━━━━\u001b[0m\u001b[37m\u001b[0m \u001b[1m1s\u001b[0m 23ms/step - accuracy: 0.9939 - loss: 0.0286 - val_accuracy: 0.7615 - val_loss: 1.2245 - learning_rate: 0.0010\n",
      "Epoch 11/100\n",
      "\u001b[1m52/52\u001b[0m \u001b[32m━━━━━━━━━━━━━━━━━━━━\u001b[0m\u001b[37m\u001b[0m \u001b[1m1s\u001b[0m 20ms/step - accuracy: 0.9951 - loss: 0.0147 - val_accuracy: 0.8429 - val_loss: 0.8614 - learning_rate: 0.0010\n",
      "Epoch 12/100\n",
      "\u001b[1m52/52\u001b[0m \u001b[32m━━━━━━━━━━━━━━━━━━━━\u001b[0m\u001b[37m\u001b[0m \u001b[1m0s\u001b[0m 16ms/step - accuracy: 0.9965 - loss: 0.0159\n",
      "Epoch 12: ReduceLROnPlateau reducing learning rate to 0.0005000000237487257.\n",
      "\u001b[1m52/52\u001b[0m \u001b[32m━━━━━━━━━━━━━━━━━━━━\u001b[0m\u001b[37m\u001b[0m \u001b[1m1s\u001b[0m 24ms/step - accuracy: 0.9945 - loss: 0.0245 - val_accuracy: 0.8726 - val_loss: 0.5645 - learning_rate: 0.0010\n",
      "Epoch 13/100\n",
      "\u001b[1m52/52\u001b[0m \u001b[32m━━━━━━━━━━━━━━━━━━━━\u001b[0m\u001b[37m\u001b[0m \u001b[1m1s\u001b[0m 27ms/step - accuracy: 0.9988 - loss: 0.0044 - val_accuracy: 0.8314 - val_loss: 0.6965 - learning_rate: 5.0000e-04\n",
      "Epoch 14/100\n",
      "\u001b[1m52/52\u001b[0m \u001b[32m━━━━━━━━━━━━━━━━━━━━\u001b[0m\u001b[37m\u001b[0m \u001b[1m1s\u001b[0m 22ms/step - accuracy: 0.9988 - loss: 0.0029 - val_accuracy: 0.8879 - val_loss: 0.4844 - learning_rate: 5.0000e-04\n",
      "Epoch 15/100\n",
      "\u001b[1m52/52\u001b[0m \u001b[32m━━━━━━━━━━━━━━━━━━━━\u001b[0m\u001b[37m\u001b[0m \u001b[1m1s\u001b[0m 23ms/step - accuracy: 0.9994 - loss: 0.0019 - val_accuracy: 0.8803 - val_loss: 0.4335 - learning_rate: 5.0000e-04\n",
      "Epoch 16/100\n",
      "\u001b[1m52/52\u001b[0m \u001b[32m━━━━━━━━━━━━━━━━━━━━\u001b[0m\u001b[37m\u001b[0m \u001b[1m1s\u001b[0m 24ms/step - accuracy: 0.9988 - loss: 0.0062 - val_accuracy: 0.8075 - val_loss: 1.0485 - learning_rate: 5.0000e-04\n",
      "Epoch 17/100\n",
      "\u001b[1m52/52\u001b[0m \u001b[32m━━━━━━━━━━━━━━━━━━━━\u001b[0m\u001b[37m\u001b[0m \u001b[1m1s\u001b[0m 20ms/step - accuracy: 0.9988 - loss: 0.0037 - val_accuracy: 0.7835 - val_loss: 1.1730 - learning_rate: 5.0000e-04\n",
      "Epoch 18/100\n",
      "\u001b[1m52/52\u001b[0m \u001b[32m━━━━━━━━━━━━━━━━━━━━\u001b[0m\u001b[37m\u001b[0m \u001b[1m1s\u001b[0m 21ms/step - accuracy: 0.9982 - loss: 0.0073 - val_accuracy: 0.8860 - val_loss: 0.4687 - learning_rate: 5.0000e-04\n",
      "Epoch 19/100\n",
      "\u001b[1m52/52\u001b[0m \u001b[32m━━━━━━━━━━━━━━━━━━━━\u001b[0m\u001b[37m\u001b[0m \u001b[1m1s\u001b[0m 22ms/step - accuracy: 1.0000 - loss: 0.0013 - val_accuracy: 0.8592 - val_loss: 0.6047 - learning_rate: 5.0000e-04\n",
      "Epoch 20/100\n",
      "\u001b[1m52/52\u001b[0m \u001b[32m━━━━━━━━━━━━━━━━━━━━\u001b[0m\u001b[37m\u001b[0m \u001b[1m0s\u001b[0m 17ms/step - accuracy: 0.9978 - loss: 0.0031\n",
      "Epoch 20: ReduceLROnPlateau reducing learning rate to 0.0002500000118743628.\n",
      "\u001b[1m52/52\u001b[0m \u001b[32m━━━━━━━━━━━━━━━━━━━━\u001b[0m\u001b[37m\u001b[0m \u001b[1m1s\u001b[0m 23ms/step - accuracy: 0.9988 - loss: 0.0035 - val_accuracy: 0.9148 - val_loss: 0.4477 - learning_rate: 5.0000e-04\n",
      "Epoch 21/100\n",
      "\u001b[1m52/52\u001b[0m \u001b[32m━━━━━━━━━━━━━━━━━━━━\u001b[0m\u001b[37m\u001b[0m \u001b[1m1s\u001b[0m 21ms/step - accuracy: 0.9988 - loss: 0.0055 - val_accuracy: 0.9109 - val_loss: 0.4630 - learning_rate: 2.5000e-04\n",
      "Epoch 22/100\n",
      "\u001b[1m52/52\u001b[0m \u001b[32m━━━━━━━━━━━━━━━━━━━━\u001b[0m\u001b[37m\u001b[0m \u001b[1m1s\u001b[0m 21ms/step - accuracy: 0.9994 - loss: 0.0016 - val_accuracy: 0.9234 - val_loss: 0.3539 - learning_rate: 2.5000e-04\n",
      "Epoch 23/100\n",
      "\u001b[1m52/52\u001b[0m \u001b[32m━━━━━━━━━━━━━━━━━━━━\u001b[0m\u001b[37m\u001b[0m \u001b[1m1s\u001b[0m 21ms/step - accuracy: 0.9994 - loss: 0.0032 - val_accuracy: 0.9224 - val_loss: 0.3447 - learning_rate: 2.5000e-04\n",
      "Epoch 24/100\n",
      "\u001b[1m52/52\u001b[0m \u001b[32m━━━━━━━━━━━━━━━━━━━━\u001b[0m\u001b[37m\u001b[0m \u001b[1m1s\u001b[0m 26ms/step - accuracy: 0.9994 - loss: 0.0028 - val_accuracy: 0.9138 - val_loss: 0.3521 - learning_rate: 2.5000e-04\n",
      "Epoch 25/100\n",
      "\u001b[1m52/52\u001b[0m \u001b[32m━━━━━━━━━━━━━━━━━━━━\u001b[0m\u001b[37m\u001b[0m \u001b[1m1s\u001b[0m 24ms/step - accuracy: 1.0000 - loss: 7.1319e-04 - val_accuracy: 0.9243 - val_loss: 0.3141 - learning_rate: 2.5000e-04\n",
      "Epoch 26/100\n",
      "\u001b[1m52/52\u001b[0m \u001b[32m━━━━━━━━━━━━━━━━━━━━\u001b[0m\u001b[37m\u001b[0m \u001b[1m1s\u001b[0m 25ms/step - accuracy: 1.0000 - loss: 0.0014 - val_accuracy: 0.9253 - val_loss: 0.3133 - learning_rate: 2.5000e-04\n",
      "Epoch 27/100\n",
      "\u001b[1m52/52\u001b[0m \u001b[32m━━━━━━━━━━━━━━━━━━━━\u001b[0m\u001b[37m\u001b[0m \u001b[1m1s\u001b[0m 22ms/step - accuracy: 0.9994 - loss: 0.0029 - val_accuracy: 0.9368 - val_loss: 0.3050 - learning_rate: 2.5000e-04\n",
      "Epoch 28/100\n",
      "\u001b[1m51/52\u001b[0m \u001b[32m━━━━━━━━━━━━━━━━━━━\u001b[0m\u001b[37m━\u001b[0m \u001b[1m0s\u001b[0m 16ms/step - accuracy: 1.0000 - loss: 7.0004e-04\n",
      "Epoch 28: ReduceLROnPlateau reducing learning rate to 0.0001250000059371814.\n",
      "\u001b[1m52/52\u001b[0m \u001b[32m━━━━━━━━━━━━━━━━━━━━\u001b[0m\u001b[37m\u001b[0m \u001b[1m1s\u001b[0m 22ms/step - accuracy: 0.9994 - loss: 0.0061 - val_accuracy: 0.9061 - val_loss: 0.4257 - learning_rate: 2.5000e-04\n",
      "Epoch 29/100\n",
      "\u001b[1m52/52\u001b[0m \u001b[32m━━━━━━━━━━━━━━━━━━━━\u001b[0m\u001b[37m\u001b[0m \u001b[1m1s\u001b[0m 24ms/step - accuracy: 0.9994 - loss: 0.0026 - val_accuracy: 0.8266 - val_loss: 0.8897 - learning_rate: 1.2500e-04\n",
      "Epoch 30/100\n",
      "\u001b[1m52/52\u001b[0m \u001b[32m━━━━━━━━━━━━━━━━━━━━\u001b[0m\u001b[37m\u001b[0m \u001b[1m1s\u001b[0m 22ms/step - accuracy: 0.9976 - loss: 0.0121 - val_accuracy: 0.7854 - val_loss: 0.8804 - learning_rate: 1.2500e-04\n",
      "Epoch 31/100\n",
      "\u001b[1m52/52\u001b[0m \u001b[32m━━━━━━━━━━━━━━━━━━━━\u001b[0m\u001b[37m\u001b[0m \u001b[1m1s\u001b[0m 24ms/step - accuracy: 1.0000 - loss: 8.0342e-04 - val_accuracy: 0.7835 - val_loss: 0.9008 - learning_rate: 1.2500e-04\n",
      "Epoch 32/100\n",
      "\u001b[1m52/52\u001b[0m \u001b[32m━━━━━━━━━━━━━━━━━━━━\u001b[0m\u001b[37m\u001b[0m \u001b[1m1s\u001b[0m 23ms/step - accuracy: 0.9988 - loss: 0.0022 - val_accuracy: 0.7835 - val_loss: 0.8901 - learning_rate: 1.2500e-04\n",
      "Epoch 33/100\n",
      "\u001b[1m52/52\u001b[0m \u001b[32m━━━━━━━━━━━━━━━━━━━━\u001b[0m\u001b[37m\u001b[0m \u001b[1m1s\u001b[0m 23ms/step - accuracy: 0.9994 - loss: 0.0020 - val_accuracy: 0.7921 - val_loss: 0.8427 - learning_rate: 1.2500e-04\n",
      "Epoch 34/100\n",
      "\u001b[1m52/52\u001b[0m \u001b[32m━━━━━━━━━━━━━━━━━━━━\u001b[0m\u001b[37m\u001b[0m \u001b[1m1s\u001b[0m 22ms/step - accuracy: 0.9982 - loss: 0.0047 - val_accuracy: 0.7816 - val_loss: 0.9016 - learning_rate: 1.2500e-04\n",
      "Epoch 34: early stopping\n",
      "Restoring model weights from the end of the best epoch: 4.\n"
     ]
    }
   ],
   "source": [
    "# Entrenar modelo\n",
    "print(\"Entrenando modelo CNN-LSTM...\")\n",
    "history = model.fit(\n",
    "    X_train, y_train,\n",
    "    validation_data=(X_val, y_val),\n",
    "    epochs=100,\n",
    "    batch_size=32,\n",
    "    callbacks=callbacks,\n",
    "    verbose=1\n",
    ")"
   ]
  },
  {
   "cell_type": "code",
   "execution_count": 60,
   "id": "1c9cee00",
   "metadata": {},
   "outputs": [
    {
     "name": "stdout",
     "output_type": "stream",
     "text": [
      "Evaluando modelo...\n",
      "\u001b[1m18/18\u001b[0m \u001b[32m━━━━━━━━━━━━━━━━━━━━\u001b[0m\u001b[37m\u001b[0m \u001b[1m1s\u001b[0m 37ms/step\n",
      "\n",
      "Pérdida en test: 0.2624\n",
      "Precisión en test: 0.9277\n",
      "\n",
      "==================================================\n",
      "REPORTE DE CLASIFICACIÓN\n",
      "==================================================\n",
      "              precision    recall  f1-score   support\n",
      "\n",
      "         Sit     0.7891    1.0000    0.8821       116\n",
      "      Stairs     0.9761    0.9714    0.9737       210\n",
      "       Stand     1.0000    0.7458    0.8544       118\n",
      "        Walk     0.9593    0.9593    0.9593       123\n",
      "\n",
      "    accuracy                         0.9277       567\n",
      "   macro avg     0.9311    0.9191    0.9174       567\n",
      "weighted avg     0.9392    0.9277    0.9270       567\n",
      "\n"
     ]
    },
    {
     "data": {
      "image/png": "[encoded data removed]",
      "text/plain": [
       "<Figure size 1000x800 with 2 Axes>"
      ]
     },
     "metadata": {},
     "output_type": "display_data"
    }
   ],
   "source": [
    "print(\"Evaluando modelo...\")\n",
    "\n",
    "# Predicciones\n",
    "y_pred = model.predict(X_test)\n",
    "y_pred_classes = np.argmax(y_pred, axis=1)\n",
    "\n",
    "# Métricas básicas\n",
    "test_loss, test_accuracy = model.evaluate(X_test, y_test, verbose=0)\n",
    "print(f\"\\nPérdida en test: {test_loss:.4f}\")\n",
    "print(f\"Precisión en test: {test_accuracy:.4f}\")\n",
    "\n",
    "# Reporte de clasificación detallado\n",
    "print(\"\\n\" + \"=\"*50)\n",
    "print(\"REPORTE DE CLASIFICACIÓN\")\n",
    "print(\"=\"*50)\n",
    "print(classification_report(\n",
    "    y_test, \n",
    "    y_pred_classes, \n",
    "    target_names=label_encoder.classes_,\n",
    "    digits=4\n",
    "))\n",
    "\n",
    "# Matriz de confusión\n",
    "cm = confusion_matrix(y_test, y_pred_classes)\n",
    "plt.figure(figsize=(10, 8))\n",
    "sns.heatmap(\n",
    "    cm, \n",
    "    annot=True, \n",
    "    fmt='d', \n",
    "    cmap='Blues',\n",
    "    xticklabels=label_encoder.classes_,\n",
    "    yticklabels=label_encoder.classes_\n",
    ")\n",
    "plt.title('Matriz de Confusión - CNN-LSTM')\n",
    "plt.xlabel('Predicción')\n",
    "plt.ylabel('Valor Real')\n",
    "plt.xticks(rotation=45)\n",
    "plt.yticks(rotation=0)\n",
    "plt.tight_layout()\n",
    "plt.show()"
   ]
  },
  {
   "cell_type": "code",
   "execution_count": 62,
   "id": "052063f1",
   "metadata": {},
   "outputs": [
    {
     "name": "stderr",
     "output_type": "stream",
     "text": [
      "WARNING:absl:You are saving your model as an HDF5 file via `model.save()` or `keras.saving.save_model(model)`. This file format is considered legacy. We recommend using instead the native Keras format, e.g. `model.save('my_model.keras')` or `keras.saving.save_model(model, 'my_model.keras')`. \n"
     ]
    },
    {
     "data": {
      "text/plain": [
       "['F:\\\\UPC\\\\Tesis\\\\HARbit-Model\\\\src\\\\models\\\\meta\\\\label_encoder_user_uci_92.joblib']"
      ]
     },
     "execution_count": 62,
     "metadata": {},
     "output_type": "execute_result"
    }
   ],
   "source": [
    "from tensorflow import keras\n",
    "\n",
    "model.save(r'F:\\UPC\\Tesis\\HARbit-Model\\src\\models\\cnn-lstm_uci_user_92.h5')\n",
    "joblib.dump(label_encoder, r'F:\\UPC\\Tesis\\HARbit-Model\\src\\models\\meta\\label_encoder_user_uci_92.joblib')"
   ]
  }
 ],
 "metadata": {
  "kernelspec": {
   "display_name": "forecasting",
   "language": "python",
   "name": "python3"
  },
  "language_info": {
   "codemirror_mode": {
    "name": "ipython",
    "version": 3
   },
   "file_extension": ".py",
   "mimetype": "text/x-python",
   "name": "python",
   "nbconvert_exporter": "python",
   "pygments_lexer": "ipython3",
   "version": "3.10.15"
  }
 },
 "nbformat": 4,
 "nbformat_minor": 5
}
